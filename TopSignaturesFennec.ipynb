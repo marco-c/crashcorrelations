{
 "cells": [
  {
   "cell_type": "code",
   "execution_count": null,
   "metadata": {
    "collapsed": true
   },
   "outputs": [],
   "source": [
    "!git clone https://github.com/marco-c/crashcorrelations"
   ]
  },
  {
   "cell_type": "code",
   "execution_count": null,
   "metadata": {
    "collapsed": true
   },
   "outputs": [],
   "source": [
    "import hashlib\n",
    "\n",
    "from crashcorrelations import download_data, utils, crash_deviations"
   ]
  },
  {
   "cell_type": "code",
   "execution_count": null,
   "metadata": {
    "collapsed": false
   },
   "outputs": [],
   "source": [
    "from datetime import datetime\n",
    "print(datetime.utcnow())"
   ]
  },
  {
   "cell_type": "code",
   "execution_count": null,
   "metadata": {
    "collapsed": false
   },
   "outputs": [],
   "source": [
    "channels = ['release', 'beta', 'aurora', 'nightly']\n",
    "channel_to_versions = {}\n",
    "\n",
    "for channel in channels:\n",
    "    channel_to_versions[channel] = download_data.get_versions(channel, product='FennecAndroid')"
   ]
  },
  {
   "cell_type": "code",
   "execution_count": null,
   "metadata": {
    "collapsed": false
   },
   "outputs": [],
   "source": [
    "# download_data.set_token('INSERT_YOUR_TOKEN_HERE')\n",
    "\n",
    "signatures = {}\n",
    "\n",
    "for channel in channels:\n",
    "    download_data.download_crashes(versions=channel_to_versions[channel], days=5, product='FennecAndroid')\n",
    "    signatures[channel] = download_data.get_top(100, versions=channel_to_versions[channel], days=5, product='FennecAndroid')"
   ]
  },
  {
   "cell_type": "code",
   "execution_count": null,
   "metadata": {
    "collapsed": false
   },
   "outputs": [],
   "source": [
    "utils.mkdir('output_tmp')\n",
    "\n",
    "totals = {\n",
    "  'date': str(utils.utc_today()),\n",
    "}\n",
    "\n",
    "for channel in channels:\n",
    "    print(channel)\n",
    "\n",
    "    utils.mkdir('output_tmp/' + channel)\n",
    "\n",
    "    df_a = crash_deviations.get_crashes(sc, versions=channel_to_versions[channel], days=5, product='FennecAndroid')\n",
    "\n",
    "    results, total_reference, total_groups = crash_deviations.find_deviations(sc, df_a, signatures=signatures[channel])\n",
    "\n",
    "    totals[channel] = total_reference\n",
    "\n",
    "    for signature in signatures[channel]:\n",
    "        if signature not in results:\n",
    "            continue\n",
    "\n",
    "        utils.write_json('output_tmp/' + channel + '/' + hashlib.sha1(signature).hexdigest() + '.json.gz', {\n",
    "            'total': total_groups[signature],\n",
    "            'results': results[signature],\n",
    "        })\n",
    "\n",
    "utils.write_json('output_tmp/all.json.gz', totals)\n",
    "utils.copytree('output_tmp', 'output')"
   ]
  },
  {
   "cell_type": "code",
   "execution_count": null,
   "metadata": {
    "collapsed": true
   },
   "outputs": [],
   "source": [
    "from datetime import datetime\n",
    "print(datetime.utcnow())"
   ]
  }
 ],
 "metadata": {
  "kernelspec": {
   "display_name": "Python 2",
   "language": "python",
   "name": "python2"
  },
  "language_info": {
   "codemirror_mode": {
    "name": "ipython",
    "version": 2
   },
   "file_extension": ".py",
   "mimetype": "text/x-python",
   "name": "python",
   "nbconvert_exporter": "python",
   "pygments_lexer": "ipython2",
   "version": "2.7.12+"
  }
 },
 "nbformat": 4,
 "nbformat_minor": 0
}
