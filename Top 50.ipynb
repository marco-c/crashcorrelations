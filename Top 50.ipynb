{
 "cells": [
  {
   "cell_type": "code",
   "execution_count": null,
   "metadata": {
    "collapsed": true
   },
   "outputs": [],
   "source": [
    "!git clone https://github.com/marco-c/crashcorrelations"
   ]
  },
  {
   "cell_type": "code",
   "execution_count": null,
   "metadata": {
    "collapsed": true
   },
   "outputs": [],
   "source": [
    "import os\n",
    "import errno\n",
    "import json\n",
    "import gzip\n",
    "\n",
    "from crashcorrelations import download_data\n",
    "from crashcorrelations import crash_deviations"
   ]
  },
  {
   "cell_type": "code",
   "execution_count": null,
   "metadata": {
    "collapsed": false
   },
   "outputs": [],
   "source": [
    "channels = ['release', 'beta', 'aurora', 'nightly']\n",
    "\n",
    "channel_to_version = {\n",
    "  'release': '47.0.1',\n",
    "  'beta': '48.0b',\n",
    "  'aurora': '49.0a2',\n",
    "  'nightly': '50.0a1',\n",
    "}\n",
    "\n",
    "results = {\n",
    "  'release': {},\n",
    "  'beta': {},\n",
    "  'aurora': {},\n",
    "  'nightly': {},\n",
    "}"
   ]
  },
  {
   "cell_type": "code",
   "execution_count": null,
   "metadata": {
    "collapsed": true
   },
   "outputs": [],
   "source": [
    "download_data.set_token('YOUR_SOCORRO_TOKEN_HERE')\n",
    "\n",
    "for channel in channels:\n",
    "    download_data.download_crashes(version=channel_to_version[channel], days=5)"
   ]
  },
  {
   "cell_type": "code",
   "execution_count": null,
   "metadata": {
    "collapsed": false
   },
   "outputs": [],
   "source": [
    "for channel in channels:\n",
    "    df_a = crash_deviations.get_crashes(sc, version=channel_to_version[channel], days=5)\n",
    "    signatures = download_data.get_top_50(channel_to_version[channel], 5)\n",
    "    for signature in signatures:\n",
    "        df_b = df_a.filter(df_a['signature'] == signature)\n",
    "        results[channel][signature] = crash_deviations.find_deviations(sc, df_a, df_b, min_support_diff=0.15, min_corr=0.03, max_addons=50)"
   ]
  },
  {
   "cell_type": "code",
   "execution_count": null,
   "metadata": {
    "collapsed": false
   },
   "outputs": [],
   "source": [
    "try:\n",
    "    os.mkdir('output')\n",
    "except OSError as e:\n",
    "    if e.errno != errno.EEXIST:\n",
    "        raise e\n",
    "\n",
    "with gzip.open('output/top50_results.json.gz', 'wb') as f:\n",
    "    json.dump(results, f)"
   ]
  },
  {
   "cell_type": "code",
   "execution_count": null,
   "metadata": {
    "collapsed": true
   },
   "outputs": [],
   "source": []
  }
 ],
 "metadata": {
  "kernelspec": {
   "display_name": "Python 2",
   "language": "python",
   "name": "python2"
  },
  "language_info": {
   "codemirror_mode": {
    "name": "ipython",
    "version": 2
   },
   "file_extension": ".py",
   "mimetype": "text/x-python",
   "name": "python",
   "nbconvert_exporter": "python",
   "pygments_lexer": "ipython2",
   "version": "2.7.12"
  }
 },
 "nbformat": 4,
 "nbformat_minor": 0
}
