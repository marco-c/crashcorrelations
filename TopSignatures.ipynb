{
 "cells": [
  {
   "cell_type": "code",
   "execution_count": null,
   "metadata": {
    "collapsed": false
   },
   "outputs": [],
   "source": [
    "!git clone https://github.com/marco-c/crashcorrelations"
   ]
  },
  {
   "cell_type": "code",
   "execution_count": null,
   "metadata": {
    "collapsed": false
   },
   "outputs": [],
   "source": [
    "!pip install stemming"
   ]
  },
  {
   "cell_type": "code",
   "execution_count": null,
   "metadata": {
    "collapsed": false
   },
   "outputs": [],
   "source": [
    "import os\n",
    "import errno\n",
    "import json\n",
    "import gzip\n",
    "import shutil\n",
    "import hashlib\n",
    "from collections import defaultdict\n",
    "\n",
    "from crashcorrelations import download_data, utils, crash_deviations, comments"
   ]
  },
  {
   "cell_type": "code",
   "execution_count": null,
   "metadata": {
    "collapsed": false
   },
   "outputs": [],
   "source": [
    "from datetime import datetime\n",
    "print(datetime.utcnow())"
   ]
  },
  {
   "cell_type": "code",
   "execution_count": null,
   "metadata": {
    "collapsed": true
   },
   "outputs": [],
   "source": [
    "def mkdir(path):\n",
    "    try:\n",
    "        os.mkdir(path)\n",
    "    except OSError as e:\n",
    "        if e.errno != errno.EEXIST:\n",
    "            raise e\n",
    "\n",
    "def rmdir(path):\n",
    "    try:\n",
    "        shutil.rmtree(path)\n",
    "    except OSError as e:\n",
    "        if e.errno != errno.ENOENT:\n",
    "            raise e\n",
    "\n",
    "def write_json(path, obj):\n",
    "    with gzip.open(path, 'wb') as f:\n",
    "        json.dump(obj, f)"
   ]
  },
  {
   "cell_type": "code",
   "execution_count": null,
   "metadata": {
    "collapsed": false
   },
   "outputs": [],
   "source": [
    "channels = ['release', 'beta', 'aurora', 'nightly']\n",
    "channel_to_versions = {}\n",
    "\n",
    "for channel in channels:\n",
    "    channel_to_versions[channel] = download_data.get_versions(channel)"
   ]
  },
  {
   "cell_type": "code",
   "execution_count": null,
   "metadata": {
    "collapsed": false
   },
   "outputs": [],
   "source": [
    "# download_data.set_token('INSERT_YOUR_TOKEN_HERE')\n",
    "\n",
    "signatures = {}\n",
    "\n",
    "for channel in channels:\n",
    "    download_data.download_crashes(versions=channel_to_versions[channel], days=30)\n",
    "    signatures[channel] = download_data.get_top(200, versions=channel_to_versions[channel], days=5)"
   ]
  },
  {
   "cell_type": "code",
   "execution_count": null,
   "metadata": {
    "collapsed": false
   },
   "outputs": [],
   "source": [
    "rmdir('output')\n",
    "\n",
    "totals = {}\n",
    "addon_related_signatures = defaultdict(list)\n",
    "\n",
    "for channel in channels:\n",
    "    print(channel)\n",
    "\n",
    "    mkdir('output/' + channel)\n",
    "\n",
    "    dataset = crash_deviations.get_crashes(sc, versions=channel_to_versions[channel], days=5)\n",
    "    telemetry_dataset = crash_deviations.get_telemetry_crashes(sc, versions=channel_to_versions[channel], days=5)\n",
    "    results, total_reference, total_groups = crash_deviations.find_deviations(sc, dataset, signatures=signatures[channel], telemetry_dataset=telemetry_dataset)\n",
    "\n",
    "    totals[channel] = total_reference\n",
    "\n",
    "    dataset = crash_deviations.get_crashes(sc, versions=channel_to_versions[channel], days=30)\n",
    "    top_words = comments.get_top_words(dataset, signatures[channel])\n",
    "\n",
    "    for signature in signatures[channel]:\n",
    "        if signature not in results:\n",
    "            continue\n",
    "\n",
    "        addons = [result for result in results[signature] if any('Addon' in elem and float(result['count_group']) / total_groups[signature] > float(result['count_reference']) / total_reference for elem in result['item'].keys() if len(result['item']) == 1)]\n",
    "\n",
    "        if len(addons) > 0:\n",
    "            addon_related_signatures[channel].append({\n",
    "                'signature': signature,\n",
    "                'addons': addons,\n",
    "                'total': total_groups[signature],\n",
    "            })\n",
    "\n",
    "        res = {\n",
    "            'total': total_groups[signature],\n",
    "            'results': results[signature],\n",
    "        }\n",
    "\n",
    "        if signature in top_words:\n",
    "            res['top_words'] = top_words[signature]\n",
    "\n",
    "        write_json('output/' + channel + '/' + hashlib.sha1(signature).hexdigest() + '.json.gz', res)"
   ]
  },
  {
   "cell_type": "code",
   "execution_count": null,
   "metadata": {
    "collapsed": true
   },
   "outputs": [],
   "source": [
    "write_json('output/all.json.gz', totals)\n",
    "write_json('output/addon_related_signatures.json.gz', addon_related_signatures)"
   ]
  },
  {
   "cell_type": "code",
   "execution_count": null,
   "metadata": {
    "collapsed": true
   },
   "outputs": [],
   "source": [
    "from datetime import datetime\n",
    "print(datetime.utcnow())"
   ]
  }
 ],
 "metadata": {
  "kernelspec": {
   "display_name": "Python 2",
   "language": "python",
   "name": "python2"
  },
  "language_info": {
   "codemirror_mode": {
    "name": "ipython",
    "version": 2
   },
   "file_extension": ".py",
   "mimetype": "text/x-python",
   "name": "python",
   "nbconvert_exporter": "python",
   "pygments_lexer": "ipython2",
   "version": "2.7.12+"
  }
 },
 "nbformat": 4,
 "nbformat_minor": 0
}
