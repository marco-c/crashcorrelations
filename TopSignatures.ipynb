{
 "cells": [
  {
   "cell_type": "code",
   "execution_count": null,
   "metadata": {
    "collapsed": false
   },
   "outputs": [],
   "source": [
    "!git clone https://github.com/marco-c/crashcorrelations"
   ]
  },
  {
   "cell_type": "code",
   "execution_count": null,
   "metadata": {
    "collapsed": false
   },
   "outputs": [],
   "source": [
    "!pip download stemming==1.0.1\n",
    "!unzip stemming-1.0.1\n",
    "sc.addPyFile('stemming-1.0.1/stemming/porter2.py')"
   ]
  },
  {
   "cell_type": "code",
   "execution_count": null,
   "metadata": {
    "collapsed": false
   },
   "outputs": [],
   "source": [
    "import hashlib\n",
    "from collections import defaultdict\n",
    "from datetime import datetime\n",
    "\n",
    "from crashcorrelations import download_data, utils, crash_deviations, comments"
   ]
  },
  {
   "cell_type": "code",
   "execution_count": null,
   "metadata": {
    "collapsed": false
   },
   "outputs": [],
   "source": [
    "print(datetime.utcnow())"
   ]
  },
  {
   "cell_type": "code",
   "execution_count": null,
   "metadata": {
    "collapsed": false
   },
   "outputs": [],
   "source": [
    "channels = ['release', 'beta', 'aurora', 'nightly', 'esr']\n",
    "channel_to_versions = {}\n",
    "\n",
    "for channel in channels:\n",
    "    channel_to_versions[channel] = download_data.get_versions(channel)"
   ]
  },
  {
   "cell_type": "code",
   "execution_count": null,
   "metadata": {
    "collapsed": false
   },
   "outputs": [],
   "source": [
    "signatures = {}\n",
    "\n",
    "for channel in channels:\n",
    "    signatures[channel] = download_data.get_top(200, versions=channel_to_versions[channel], days=5)"
   ]
  },
  {
   "cell_type": "code",
   "execution_count": null,
   "metadata": {
    "collapsed": false
   },
   "outputs": [],
   "source": [
    "utils.mkdir('output_tmp')\n",
    "\n",
    "totals = {}\n",
    "addon_related_signatures = defaultdict(list)\n",
    "\n",
    "for channel in channels:\n",
    "    print(channel)\n",
    "\n",
    "    utils.mkdir('output_tmp/' + channel)\n",
    "\n",
    "    dataset = crash_deviations.get_telemetry_crashes(sc, versions=channel_to_versions[channel], days=5)\n",
    "    results, total_reference, total_groups = crash_deviations.find_deviations(sc, dataset, signatures=signatures[channel])\n",
    "\n",
    "    totals[channel] = total_reference\n",
    "\n",
    "    dataset = crash_deviations.get_telemetry_crashes(sc, versions=channel_to_versions[channel], days=30)\n",
    "    top_words = comments.get_top_words(dataset, signatures[channel])\n",
    "\n",
    "    for signature in signatures[channel]:\n",
    "        if signature not in results:\n",
    "            continue\n",
    "\n",
    "        addons = [result for result in results[signature] if any('Addon' in elem and float(result['count_group']) / total_groups[signature] > float(result['count_reference']) / total_reference for elem in result['item'].keys() if len(result['item']) == 1)]\n",
    "\n",
    "        if len(addons) > 0:\n",
    "            addon_related_signatures[channel].append({\n",
    "                'signature': signature,\n",
    "                'addons': addons,\n",
    "                'total': total_groups[signature],\n",
    "            })\n",
    "\n",
    "        res = {\n",
    "            'total': total_groups[signature],\n",
    "            'results': results[signature],\n",
    "        }\n",
    "\n",
    "        if signature in top_words:\n",
    "            res['top_words'] = top_words[signature]\n",
    "\n",
    "        utils.write_json('output_tmp/' + channel + '/' + hashlib.sha1(signature).hexdigest() + '.json.gz', res)\n",
    "\n",
    "utils.write_json('output_tmp/all.json.gz', totals)\n",
    "utils.write_json('output_tmp/addon_related_signatures.json.gz', addon_related_signatures)\n",
    "\n",
    "utils.remove_results('top-signatures-correlations')\n",
    "\n",
    "utils.copytree('output_tmp', 'output')"
   ]
  },
  {
   "cell_type": "code",
   "execution_count": null,
   "metadata": {
    "collapsed": true
   },
   "outputs": [],
   "source": [
    "print(datetime.utcnow())"
   ]
  }
 ],
 "metadata": {
  "kernelspec": {
   "display_name": "Python 2",
   "language": "python",
   "name": "python2"
  },
  "language_info": {
   "codemirror_mode": {
    "name": "ipython",
    "version": 2
   },
   "file_extension": ".py",
   "mimetype": "text/x-python",
   "name": "python",
   "nbconvert_exporter": "python",
   "pygments_lexer": "ipython2",
   "version": "2.7.13"
  }
 },
 "nbformat": 4,
 "nbformat_minor": 0
}
