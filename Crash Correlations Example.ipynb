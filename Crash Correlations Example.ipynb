{
 "cells": [
  {
   "cell_type": "code",
   "execution_count": null,
   "metadata": {
    "collapsed": false
   },
   "outputs": [],
   "source": [
    "%matplotlib inline"
   ]
  },
  {
   "cell_type": "code",
   "execution_count": null,
   "metadata": {
    "collapsed": false
   },
   "outputs": [],
   "source": [
    "!git clone https://github.com/marco-c/crashcorrelations"
   ]
  },
  {
   "cell_type": "code",
   "execution_count": 1,
   "metadata": {
    "collapsed": false
   },
   "outputs": [],
   "source": [
    "import crash_deviations, download_data, plot"
   ]
  },
  {
   "cell_type": "code",
   "execution_count": null,
   "metadata": {
    "collapsed": false
   },
   "outputs": [],
   "source": [
    "download_data.download_crashes(versions=download_data.get_versions('nightly'), days=5)"
   ]
  },
  {
   "cell_type": "code",
   "execution_count": 2,
   "metadata": {
    "collapsed": false,
    "scrolled": false
   },
   "outputs": [],
   "source": [
    "df_a = crash_deviations.get_crashes(sc, versions=download_data.get_versions('nightly'), days=5)\n",
    "df_b = df_a.filter(df_a['signature'].startswith('nvd3d9wrapx.dll')) # or df_a['signature'] == 'SOME_SIGNATURE'"
   ]
  },
  {
   "cell_type": "code",
   "execution_count": 3,
   "metadata": {
    "collapsed": false
   },
   "outputs": [
    {
     "name": "stdout",
     "output_type": "stream",
     "text": [
      "Counting addons...\n",
      "[DONE 4.50888490677]\n",
      "\n",
      "Counting first level candidates...\n",
      "[DONE 9.75961709023]\n",
      "\n",
      "Filtering first level candidates...\n",
      "()\n",
      "()\n",
      "()\n",
      "()\n",
      "()\n",
      "()\n",
      "()\n",
      "[DONE 0.000491857528687]\n",
      "\n",
      "1 RULES: 67\n",
      "Final rules filtering...\n",
      "[DONE 7.60595583916]\n",
      "\n"
     ]
    }
   ],
   "source": [
    "results, total_reference, total_groups = crash_deviations.find_deviations(sc, df_a, groups=[('nvd3d9wrapx.dll', df_b)])"
   ]
  },
  {
   "cell_type": "code",
   "execution_count": 4,
   "metadata": {
    "collapsed": false
   },
   "outputs": [
    {
     "name": "stdout",
     "output_type": "stream",
     "text": [
      "nvd3d9wrapx.dll\n",
      "(99.85% in signature vs 02.88% overall) reason=\"EXCEPTION_ACCESS_VIOLATION_WRITE\"\n",
      "(99.70% in signature vs 05.68% overall) address=\"0x0\"\n",
      "(94.98% in signature vs 03.02% overall) useragent_locale=\"None\"\n",
      "(94.98% in signature vs 03.10% overall) startup_crash=\"1\"\n",
      "(100.0% in signature vs 18.76% overall) has dual GPUs=\"True\"\n",
      "(04.34% in signature vs 83.66% overall) useragent_locale=\"en-US\"\n",
      "(18.58% in signature vs 76.30% overall) build_id=\"20161014030204\"\n",
      "(87.19% in signature vs 30.45% overall) url=\"\"\n",
      "(94.16% in signature vs 42.87% overall) adapter_vendor_id=\"Intel Corporation\"\n",
      "(49.66% in signature vs 04.13% overall) adapter_driver_version=\"9.17.10.4229\"\n",
      "(49.66% in signature vs 04.16% overall) adapter_driver_version_clean=\"4229\"\n",
      "(51.99% in signature vs 06.81% overall) cpu_microcode_version=\"0x29\"\n",
      "(00.37% in signature vs 43.32% overall) startup_crash=\"0\"\n",
      "(42.92% in signature vs 03.24% overall) adapter_device_id=\"0x0116\"\n",
      "(44.57% in signature vs 84.18% overall) dom_ipc_enabled=\"1\"\n",
      "(57.98% in signature vs 92.56% overall) app_init_dlls=\"None\"\n",
      "(33.33% in signature vs 02.41% overall) build_id=\"20161014060324\"\n",
      "(05.84% in signature vs 32.67% overall) adapter_vendor_id=\"NVIDIA Corporation\"\n",
      "(68.24% in signature vs 94.26% overall) Addon \"Pocket\"=\"True\"\n",
      "(26.37% in signature vs 00.94% overall) theme=\"None\"\n",
      "(28.84% in signature vs 03.54% overall) cpu_info=\"family 6 model 42 stepping 7 | 8\"\n",
      "(69.51% in signature vs 94.80% overall) Addon \"Multi-process staged rollout\"=\"True\"\n",
      "(68.99% in signature vs 94.08% overall) Addon \"{972ce4c6-7e08-4474-a285-3208198ce6fd} (default theme)\"=\"True\"\n",
      "(70.04% in signature vs 94.98% overall) Addon \"webcompat@mozilla.org\"=\"True\"\n",
      "(70.04% in signature vs 94.95% overall) Addon \"flyweb@mozilla.org\"=\"True\"\n",
      "(73.63% in signature vs 98.40% overall) theme=\"classic/1.0\"\n",
      "(70.49% in signature vs 95.04% overall) Addon \"formautofill@mozilla.org\"=\"True\"\n",
      "(26.59% in signature vs 02.40% overall) build_id=\"20161015030203\"\n",
      "(100.0% in signature vs 77.52% overall) cpu_arch=\"amd64\"\n",
      "(29.81% in signature vs 07.45% overall) adapter_device_id=\"0x0166\"\n",
      "(04.19% in signature vs 25.23% overall) submitted_from_infobar=\"true\"\n",
      "(24.12% in signature vs 03.19% overall) app_init_dlls=\"nvinitx.dll\"\n",
      "(56.93% in signature vs 36.98% overall) platform_version=\"10.0.14393\"\n",
      "(30.79% in signature vs 11.10% overall) platform_version=\"6.3.9600\"\n",
      "(30.79% in signature vs 11.10% overall) platform_pretty_version=\"Windows 8.1\"\n",
      "(25.32% in signature vs 05.90% overall) cpu_info=\"family 6 model 42 stepping 7 | 4\"\n",
      "(03.75% in signature vs 20.82% overall) cpu_microcode_version=\"None\"\n",
      "(20.00% in signature vs 03.37% overall) bios_manufacturer=\"None\"\n",
      "(63.60% in signature vs 48.09% overall) platform_pretty_version=\"Windows 10\"\n",
      "\n",
      "\n",
      "\n",
      "\n",
      "\n",
      "\n",
      "\n"
     ]
    }
   ],
   "source": [
    "crash_deviations.print_results(results, total_reference, total_groups)"
   ]
  },
  {
   "cell_type": "code",
   "execution_count": null,
   "metadata": {
    "collapsed": true
   },
   "outputs": [],
   "source": []
  }
 ],
 "metadata": {
  "kernelspec": {
   "display_name": "Python 2",
   "language": "python",
   "name": "python2"
  },
  "language_info": {
   "codemirror_mode": {
    "name": "ipython",
    "version": 2
   },
   "file_extension": ".py",
   "mimetype": "text/x-python",
   "name": "python",
   "nbconvert_exporter": "python",
   "pygments_lexer": "ipython2",
   "version": "2.7.12+"
  }
 },
 "nbformat": 4,
 "nbformat_minor": 0
}
