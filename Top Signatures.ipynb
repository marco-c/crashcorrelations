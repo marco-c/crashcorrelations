{
 "cells": [
  {
   "cell_type": "code",
   "execution_count": null,
   "metadata": {
    "collapsed": true
   },
   "outputs": [],
   "source": [
    "!git clone https://github.com/marco-c/crashcorrelations"
   ]
  },
  {
   "cell_type": "code",
   "execution_count": null,
   "metadata": {
    "collapsed": true
   },
   "outputs": [],
   "source": [
    "import os\n",
    "import errno\n",
    "import json\n",
    "import gzip\n",
    "\n",
    "from crashcorrelations import download_data\n",
    "from crashcorrelations import crash_deviations"
   ]
  },
  {
   "cell_type": "code",
   "execution_count": null,
   "metadata": {
    "collapsed": false
   },
   "outputs": [],
   "source": [
    "channels = ['release', 'beta', 'aurora', 'nightly']\n",
    "\n",
    "channel_to_versions = {}\n",
    "results = {}\n",
    "\n",
    "for channel in channels:\n",
    "    results[channel] = {}\n",
    "    channel_to_versions[channel] = download_data.get_versions(channel)"
   ]
  },
  {
   "cell_type": "code",
   "execution_count": null,
   "metadata": {
    "collapsed": false
   },
   "outputs": [],
   "source": [
    "# download_data.set_token('INSERT_YOUR_TOKEN_HERE')\n",
    "\n",
    "for channel in channels:\n",
    "    download_data.download_crashes(versions=channel_to_versions[channel], days=5)"
   ]
  },
  {
   "cell_type": "code",
   "execution_count": null,
   "metadata": {
    "collapsed": false
   },
   "outputs": [],
   "source": [
    "for channel in channels:\n",
    "    crash_deviations.clear_cache('a')\n",
    "    df_a = crash_deviations.get_crashes(sc, versions=channel_to_versions[channel], days=5)\n",
    "    results[channel] = {\n",
    "      'total': df_a.count(),\n",
    "      'signatures': {},\n",
    "    }\n",
    "    signatures = download_data.get_top(200, channel_to_versions[channel], 11)\n",
    "    i = 1\n",
    "    for signature in signatures:\n",
    "        print(channel + '-' + str(i) + ' ' + signature)\n",
    "        i += 1\n",
    "        res, total_a, total_b = crash_deviations.find_deviations(sc, df_a, signature=signature, cache_a=True)\n",
    "        results[channel]['signatures'][signature] = {\n",
    "          'total': total_b,\n",
    "          'results': res,\n",
    "        }"
   ]
  },
  {
   "cell_type": "code",
   "execution_count": null,
   "metadata": {
    "collapsed": false
   },
   "outputs": [],
   "source": [
    "try:\n",
    "    os.mkdir('output')\n",
    "except OSError as e:\n",
    "    if e.errno != errno.EEXIST:\n",
    "        raise e\n",
    "\n",
    "with gzip.open('output/top_results.json.gz', 'wb') as f:\n",
    "    json.dump(results, f)"
   ]
  },
  {
   "cell_type": "code",
   "execution_count": null,
   "metadata": {
    "collapsed": true
   },
   "outputs": [],
   "source": []
  }
 ],
 "metadata": {
  "kernelspec": {
   "display_name": "Python 2",
   "language": "python",
   "name": "python2"
  },
  "language_info": {
   "codemirror_mode": {
    "name": "ipython",
    "version": 2
   },
   "file_extension": ".py",
   "mimetype": "text/x-python",
   "name": "python",
   "nbconvert_exporter": "python",
   "pygments_lexer": "ipython2",
   "version": "2.7.12"
  }
 },
 "nbformat": 4,
 "nbformat_minor": 0
}
