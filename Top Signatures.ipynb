{
 "cells": [
  {
   "cell_type": "code",
   "execution_count": null,
   "metadata": {
    "collapsed": true
   },
   "outputs": [],
   "source": [
    "!git clone https://github.com/marco-c/crashcorrelations"
   ]
  },
  {
   "cell_type": "code",
   "execution_count": null,
   "metadata": {
    "collapsed": true
   },
   "outputs": [],
   "source": [
    "import os\n",
    "import errno\n",
    "import json\n",
    "import gzip\n",
    "import shutil\n",
    "import hashlib\n",
    "\n",
    "from crashcorrelations import download_data, crash_deviations"
   ]
  },
  {
   "cell_type": "code",
   "execution_count": null,
   "metadata": {
    "collapsed": true
   },
   "outputs": [],
   "source": [
    "def mkdir(path):\n",
    "    try:\n",
    "        os.mkdir(path)\n",
    "    except OSError as e:\n",
    "        if e.errno != errno.EEXIST:\n",
    "            raise e\n",
    "\n",
    "def rmdir(path):\n",
    "    try:\n",
    "        shutil.rmtree(path)\n",
    "    except OSError as e:\n",
    "        if e.errno != errno.ENOENT:\n",
    "            raise e\n",
    "\n",
    "def write_json(path, obj):\n",
    "    with gzip.open(path, 'wb') as f:\n",
    "        json.dump(obj, f)"
   ]
  },
  {
   "cell_type": "code",
   "execution_count": null,
   "metadata": {
    "collapsed": false
   },
   "outputs": [],
   "source": [
    "channels = ['release', 'beta', 'aurora', 'nightly']\n",
    "channel_to_versions = {}\n",
    "\n",
    "for channel in channels:\n",
    "    channel_to_versions[channel] = download_data.get_versions(channel)"
   ]
  },
  {
   "cell_type": "code",
   "execution_count": null,
   "metadata": {
    "collapsed": false
   },
   "outputs": [],
   "source": [
    "# download_data.set_token('INSERT_YOUR_TOKEN_HERE')\n",
    "\n",
    "for channel in channels:\n",
    "    download_data.download_crashes(versions=channel_to_versions[channel], days=5)"
   ]
  },
  {
   "cell_type": "code",
   "execution_count": null,
   "metadata": {
    "collapsed": false
   },
   "outputs": [],
   "source": [
    "rmdir('output_tmp')\n",
    "mkdir('output_tmp')\n",
    "\n",
    "totals = {\n",
    "  'date': str(download_data.utc_today()),\n",
    "}\n",
    "\n",
    "for channel in channels:\n",
    "    print(channel)\n",
    "\n",
    "    mkdir('output_tmp/' + channel)\n",
    "\n",
    "    df_a = crash_deviations.get_crashes(sc, versions=channel_to_versions[channel], days=5)\n",
    "\n",
    "    signatures = download_data.get_top(200, versions=channel_to_versions[channel], days=5)\n",
    "\n",
    "    results, total_reference, total_groups = crash_deviations.find_deviations(sc, df_a, signatures=signatures)\n",
    "\n",
    "    totals[channel] = total_reference\n",
    "\n",
    "    for signature in signatures:\n",
    "        write_json('output_tmp/' + channel + '/' + hashlib.sha1(signature).hexdigest() + '.json.gz', {\n",
    "            'total': total_groups[signature],\n",
    "            'results': results[signature],\n",
    "        })\n",
    "\n",
    "write_json('output/all.json.gz', totals)\n",
    "\n",
    "for channel in channels:\n",
    "    rmdir('output/' + channel)\n",
    "    shutil.copytree('output_tmp/' + channel, 'output/' + channel)"
   ]
  },
  {
   "cell_type": "code",
   "execution_count": null,
   "metadata": {
    "collapsed": true
   },
   "outputs": [],
   "source": []
  }
 ],
 "metadata": {
  "kernelspec": {
   "display_name": "Python 2",
   "language": "python",
   "name": "python2"
  },
  "language_info": {
   "codemirror_mode": {
    "name": "ipython",
    "version": 2
   },
   "file_extension": ".py",
   "mimetype": "text/x-python",
   "name": "python",
   "nbconvert_exporter": "python",
   "pygments_lexer": "ipython2",
   "version": "2.7.12"
  }
 },
 "nbformat": 4,
 "nbformat_minor": 0
}
